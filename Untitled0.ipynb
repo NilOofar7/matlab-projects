{
  "nbformat": 4,
  "nbformat_minor": 0,
  "metadata": {
    "colab": {
      "provenance": [],
      "toc_visible": true,
      "authorship_tag": "ABX9TyPQiP1WkCE2VphmsJARCNMk",
      "include_colab_link": true
    },
    "kernelspec": {
      "name": "python3",
      "display_name": "Python 3"
    },
    "language_info": {
      "name": "python"
    }
  },
  "cells": [
    {
      "cell_type": "markdown",
      "metadata": {
        "id": "view-in-github",
        "colab_type": "text"
      },
      "source": [
        "<a href=\"https://colab.research.google.com/github/NilOofar7/matlab-projects/blob/main/Untitled0.ipynb\" target=\"_parent\"><img src=\"https://colab.research.google.com/assets/colab-badge.svg\" alt=\"Open In Colab\"/></a>"
      ]
    },
    {
      "cell_type": "code",
      "execution_count": null,
      "metadata": {
        "colab": {
          "base_uri": "https://localhost:8080/",
          "height": 1000
        },
        "id": "2X9-UDeWFX7W",
        "outputId": "562d0f68-50da-4756-e1ed-f1751cb7a083"
      },
      "outputs": [
        {
          "output_type": "stream",
          "name": "stdout",
          "text": [
            "variables of regression =['PH', 'K']\n",
            "                            OLS Regression Results                            \n",
            "==============================================================================\n",
            "Dep. Variable:                      y   R-squared:                       0.648\n",
            "Model:                            OLS   Adj. R-squared:                  0.631\n",
            "Method:                 Least Squares   F-statistic:                     38.59\n",
            "Date:                Mon, 13 Feb 2023   Prob (F-statistic):           3.08e-10\n",
            "Time:                        18:07:59   Log-Likelihood:                -332.04\n",
            "No. Observations:                  45   AIC:                             670.1\n",
            "Df Residuals:                      42   BIC:                             675.5\n",
            "Df Model:                           2                                         \n",
            "Covariance Type:            nonrobust                                         \n",
            "==============================================================================\n",
            "                 coef    std err          t      P>|t|      [0.025      0.975]\n",
            "------------------------------------------------------------------------------\n",
            "const       -506.9774    279.771     -1.812      0.077   -1071.579      57.624\n",
            "x1           412.0395     48.498      8.496      0.000     314.168     509.912\n",
            "x2            -0.4871      0.203     -2.397      0.021      -0.897      -0.077\n",
            "==============================================================================\n",
            "Omnibus:                        8.275   Durbin-Watson:                   0.873\n",
            "Prob(Omnibus):                  0.016   Jarque-Bera (JB):                7.441\n",
            "Skew:                           0.959   Prob(JB):                       0.0242\n",
            "Kurtosis:                       3.538   Cond. No.                     4.02e+03\n",
            "==============================================================================\n",
            "\n",
            "Notes:\n",
            "[1] Standard Errors assume that the covariance matrix of the errors is correctly specified.\n",
            "[2] The condition number is large, 4.02e+03. This might indicate that there are\n",
            "strong multicollinearity or other numerical problems.\n",
            "MSE model= 6207326.945085846\n",
            "ss model= 12414653.890171692\n",
            "MSE residual= 160864.50737686455\n",
            "ss residual= 6756309.309828311\n"
          ]
        },
        {
          "output_type": "display_data",
          "data": {
            "text/plain": [
              "<Figure size 432x288 with 1 Axes>"
            ],
            "image/png": "[encoded data removed]"
          },
          "metadata": {
            "needs_background": "light"
          }
        },
        {
          "output_type": "display_data",
          "data": {
            "text/plain": [
              "<Figure size 432x288 with 1 Axes>"
            ],
            "image/png": "[encoded data removed]"
          },
          "metadata": {
            "needs_background": "light"
          }
        }
      ],
      "source": [
        "from cProfile import label\n",
        "from unittest import result\n",
        "import numpy as np\n",
        "import matplotlib.pyplot as plt\n",
        "import pandas as pd\n",
        "import seaborn as sb\n",
        "import statsmodels.api as sm\n",
        "\n",
        "\n",
        "df=pd.read_csv(\"/content/new data2-x1=SAL-x4=Na-x5=Zn.csv\",header=0,encoding='utf-8')\n",
        "# correlation=df.corr()\n",
        "# print(correlation)\n",
        "\n",
        "x = df.copy()\n",
        "x.drop(columns=['BIO'],inplace=True, axis=1)\n",
        "features = list(x.columns)\n",
        "print(f\"variables of regression ={features}\")\n",
        "y = df['BIO']\n",
        "\n",
        "x, y = np.array(x), np.array(y)\n",
        "x = sm.add_constant(x)\n",
        "model = sm.OLS(y, x)\n",
        "results = model.fit()\n",
        "y_predict=results.fittedvalues \n",
        "residuals=results.resid\n",
        "\n",
        "#ANOVA\n",
        "print(results.summary())\n",
        "# print(dir(results))\n",
        "\n",
        "print(f\"MSE model= {results.mse_model}\") \n",
        "print(f\"ss model= {results.mse_model * results.df_model}\") \n",
        "print(f\"MSE residual= {results.mse_resid}\") \n",
        "print(f\"ss residual= {results.mse_resid * results.df_resid}\") \n",
        "\n",
        "# hypothesis test\n",
        "# hypothesis=results.f_test(\"x1=x3=x4=x5= 0\") \n",
        "# print(f\"Hypo-Test: {hypothesis}\")\n",
        "\n",
        "##Plot1:plt of  residuals\n",
        "plt.hist(residuals)\n",
        "plt.title(f'R2 adj : {round(results.rsquared_adj,4)}')\n",
        "\n",
        "\n",
        "plt.show()\n",
        "\n",
        "##Plot2: y hats versus residuals\n",
        "Start = y_predict.min() \n",
        "End = y_predict.max()  \n",
        "plt.scatter(y_predict,residuals,s=12,c='teal')\n",
        "plt.plot([Start, End], [0, 0], 'k-', color = 'r')\n",
        "plt.title(f'R2 adj : {round(results.rsquared_adj,4)}')\n",
        "plt.xlabel('Target values')\n",
        "plt.ylabel('residuals')\n",
        "plt.show()\n"
      ]
    },
    {
      "cell_type": "code",
      "source": [],
      "metadata": {
        "id": "n5PpzaHuh1lM"
      },
      "execution_count": null,
      "outputs": []
    },
    {
      "cell_type": "markdown",
      "source": [
        "['HC0_se', 'HC1_se', 'HC2_se', 'HC3_se', '_HCCM', '__class__', '__delattr__', '__dict__', '__dir__', '__doc__', '__eq__', '__format__', '__ge__', '__getattribute__', '__gt__', '__hash__', '__init__', '__init_subclass__', '__le__', '__lt__', '__module__', '__ne__', '__new__', '__reduce__', '__reduce_ex__', '__repr__', '__setattr__', '__sizeof__', '__str__', '__subclasshook__', '__weakref__', '_abat_diagonal', '_cache', '_data_attr', '_data_in_cache', '_get_robustcov_results', '_is_nested', '_use_t', '_wexog_singular_values', 'aic', 'bic', 'bse', 'centered_tss', 'compare_f_test', 'compare_lm_test', 'compare_lr_test', 'condition_number', 'conf_int', 'conf_int_el', 'cov_HC0', 'cov_HC1', 'cov_HC2', 'cov_HC3', 'cov_kwds', 'cov_params', 'cov_type', 'df_model', 'df_resid', 'eigenvals', 'el_test', 'ess', 'f_pvalue', 'f_test', 'fittedvalues', 'fvalue', 'get_influence', 'get_prediction', 'get_robustcov_results', 'initialize', 'k_constant', 'llf', 'load', 'model', 'mse_model', 'mse_resid', 'mse_total', 'nobs', 'normalized_cov_params', 'outlier_test', 'params', 'predict', 'pvalues', 'remove_data', 'resid', 'resid_pearson', 'rsquared', 'rsquared_adj', 'save', 'scale', 'ssr', 'summary', 'summary2', 't_test', 't_test_pairwise', 'tvalues', 'uncentered_tss', 'use_t', 'wald_test', 'wald_test_terms', 'wresid']"
      ],
      "metadata": {
        "id": "o_eaYJ_tFBQS"
      }
    }
  ]
}